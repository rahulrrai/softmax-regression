{
 "cells": [
  {
   "cell_type": "markdown",
   "metadata": {},
   "source": [
    "# Softmax Regression\n",
    "\n",
    "This notebook contains the code for softmax regression which is a multi-class classification technique that uses softmax function.\n",
    "\n",
    "For concepts refer to below link <br />\n",
    "http://ufldl.stanford.edu/tutorial/supervised/SoftmaxRegression/ <br />\n",
    "https://houxianxu.github.io/2015/04/23/logistic-softmax-regression/ <br /> \n",
    "\n",
    "We have used sklearn iris dataset which contains 4 features and 3 classes."
   ]
  },
  {
   "cell_type": "markdown",
   "metadata": {},
   "source": [
    "### Import  Libraries"
   ]
  },
  {
   "cell_type": "code",
   "execution_count": 1,
   "metadata": {},
   "outputs": [],
   "source": [
    "from sklearn.datasets import load_iris\n",
    "from sklearn.model_selection import train_test_split\n",
    "import numpy as np\n",
    "import matplotlib.pyplot as plt"
   ]
  },
  {
   "cell_type": "markdown",
   "metadata": {},
   "source": [
    "### Load Data\n",
    "\n",
    "To create training and testing set we can use sklearn train_test_split feature. "
   ]
  },
  {
   "cell_type": "code",
   "execution_count": 2,
   "metadata": {},
   "outputs": [],
   "source": [
    "data = load_iris()\n",
    "#create train and test set for input and output, test_size represent the % of test data\n",
    "X_train, X_test, y_train, y_test = train_test_split(data.data, data.target, test_size=0.25)\n",
    "\n",
    "#no of rows\n",
    "m = X_train.shape[0]\n",
    "\n",
    "#As we are using linearity, For vector multiplication adding a column in X with all the value 1\n",
    "X = np.hstack((np.ones((m,1)),X_train))"
   ]
  },
  {
   "cell_type": "markdown",
   "metadata": {},
   "source": [
    "As we have 3 classes for easier computation we will convert our output vector in matrix where no of columns is equal to the no of classes. The values in the matrix will be 0 or 1. For instance the rows where we have output 2 the column 2 will contain 1 and rest all 0"
   ]
  },
  {
   "cell_type": "code",
   "execution_count": 3,
   "metadata": {},
   "outputs": [],
   "source": [
    "k = np.unique(data.target)\n",
    "k.sort()\n",
    "\n",
    "Y = np.zeros((m,len(k)))\n",
    "    \n",
    "for cls in k.astype(int):\n",
    "    Y[np.where(y_train[:] == cls),cls] = 1"
   ]
  },
  {
   "cell_type": "markdown",
   "metadata": {},
   "source": [
    "### Softmax Function"
   ]
  },
  {
   "cell_type": "code",
   "execution_count": 4,
   "metadata": {},
   "outputs": [],
   "source": [
    "def softmax(z):\n",
    "    return np.exp(z) / np.sum(np.exp(z), axis=1).reshape(z.shape[0], 1)"
   ]
  },
  {
   "cell_type": "markdown",
   "metadata": {},
   "source": [
    "### Softmax Regression Implementation"
   ]
  },
  {
   "cell_type": "code",
   "execution_count": 5,
   "metadata": {},
   "outputs": [],
   "source": [
    "#define theta with size 3,5 as there are 3 classes and 5 features, lets take the initial value as 0\n",
    "theta = np.zeros((3,5))\n",
    "\n",
    "#learning rate\n",
    "learning_rate = 0.001\n",
    "\n",
    "#to store cost values\n",
    "cost_arr = []\n",
    "\n",
    "#no of iterations we want our model to be trained\n",
    "no_of_iterations = 50000\n",
    "\n",
    "#counter\n",
    "i = 0\n",
    "\n",
    "for i in range(no_of_iterations):\n",
    "\n",
    "    #model/hypothesis function\n",
    "    lineq = np.dot(X, theta.T)\n",
    "    h = softmax(lineq)\n",
    "\n",
    "    #Cost function \n",
    "    cost = -np.sum(Y * np.log(h)) / m\n",
    "    cost_arr.append(cost)\n",
    "    \n",
    "    #using gradient calculate new theta\n",
    "    delta = (learning_rate/m) * np.dot((h-Y).T, X)\n",
    "    theta = theta - delta\n",
    "    \n",
    "    i = i + 1"
   ]
  },
  {
   "cell_type": "code",
   "execution_count": 6,
   "metadata": {},
   "outputs": [
    {
     "data": {
      "image/png": "[encoded data removed]",
      "text/plain": [
       "<matplotlib.figure.Figure at 0x7fc9605f8a90>"
      ]
     },
     "metadata": {},
     "output_type": "display_data"
    }
   ],
   "source": [
    "plt.plot(cost_arr)\n",
    "plt.show()"
   ]
  },
  {
   "cell_type": "markdown",
   "metadata": {},
   "source": [
    "### Prediction on test data"
   ]
  },
  {
   "cell_type": "code",
   "execution_count": 7,
   "metadata": {},
   "outputs": [],
   "source": [
    "#no of test samples\n",
    "m_test = X_test.shape[0]\n",
    "\n",
    "#As we are using vector implementation adding a column in test_X with all the value 1\n",
    "X_test = np.hstack((np.ones((m_test,1)),X_test))\n",
    "\n",
    "probab = softmax(np.dot(X_test,theta.T))\n",
    "predict = np.argmax(probab, axis=1)"
   ]
  },
  {
   "cell_type": "markdown",
   "metadata": {},
   "source": [
    "### Comparing our model with scikit library\n",
    "\n",
    "Lets compare our model with the scikit logistic model. we have used mean square error, variance values and accuracy score for model comparison."
   ]
  },
  {
   "cell_type": "code",
   "execution_count": 8,
   "metadata": {
    "scrolled": true
   },
   "outputs": [
    {
     "name": "stdout",
     "output_type": "stream",
     "text": [
      "Sklearn\n",
      "Coefficients: [[ 0.2439364   0.34487341  1.36552737 -2.10479763 -0.96935421]\n",
      " [ 0.71881101  0.43087558 -1.66717885  0.37093646 -0.97568861]\n",
      " [-0.88855805 -1.54253692 -1.16877065  2.32937663  2.1113137 ]]\n",
      "Accuracy score: 0.95\n",
      "Mean squared error: 0.05\n",
      "Variance score: 0.92\n",
      "\n",
      "\n",
      "Our Model\n",
      "Coefficients: [[ 0.33183788  0.65420285  1.61346671 -2.20210396 -1.03655719]\n",
      " [ 0.37032178  0.62357406 -0.35656323 -0.09446505 -0.68625899]\n",
      " [-0.70215965 -1.27777691 -1.25690348  2.29656901  1.72281619]]\n",
      "Accuracy score: 0.97\n",
      "Mean squared error: 0.03\n",
      "Variance score: 0.96\n"
     ]
    }
   ],
   "source": [
    "from sklearn import linear_model\n",
    "from sklearn.metrics import mean_squared_error, explained_variance_score, accuracy_score\n",
    "\n",
    "#train the model with training data\n",
    "regr = linear_model.LogisticRegression()\n",
    "regr.fit(X,y_train)\n",
    "\n",
    "#Predict our test data\n",
    "sklearn_predict = regr.predict(X_test)\n",
    "\n",
    "print('Sklearn')\n",
    "#coefficients\n",
    "print('Coefficients: {}'.format(regr.coef_))\n",
    "# Accuracy score\n",
    "print(\"Accuracy score: %.2f\" % accuracy_score(sklearn_predict, y_test))\n",
    "# The mean squared error\n",
    "print(\"Mean squared error: %.2f\" % mean_squared_error(sklearn_predict, y_test))\n",
    "# Explained variance score: 1 is perfect prediction\n",
    "print('Variance score: %.2f' % explained_variance_score(y_test, sklearn_predict))\n",
    "\n",
    "print('\\n')\n",
    "\n",
    "print('Our Model')\n",
    "#coefficients\n",
    "print('Coefficients: {}'.format(theta))\n",
    "# Accuracy score\n",
    "print(\"Accuracy score: %.2f\" % accuracy_score(predict, y_test))\n",
    "# The mean squared error\n",
    "print(\"Mean squared error: %.2f\" % mean_squared_error(predict, y_test))\n",
    "# Explained variance score: 1 is perfect prediction\n",
    "print('Variance score: %.2f' % explained_variance_score(y_test, predict))"
   ]
  }
 ],
 "metadata": {
  "kernelspec": {
   "display_name": "Python 3",
   "language": "python",
   "name": "python3"
  },
  "language_info": {
   "codemirror_mode": {
    "name": "ipython",
    "version": 3
   },
   "file_extension": ".py",
   "mimetype": "text/x-python",
   "name": "python",
   "nbconvert_exporter": "python",
   "pygments_lexer": "ipython3",
   "version": "3.6.4"
  }
 },
 "nbformat": 4,
 "nbformat_minor": 2
}
